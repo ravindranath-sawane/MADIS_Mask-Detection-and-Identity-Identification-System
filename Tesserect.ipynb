{
  "nbformat": 4,
  "nbformat_minor": 0,
  "metadata": {
    "colab": {
      "name": "Tesserect",
      "provenance": [],
      "include_colab_link": true
    },
    "kernelspec": {
      "name": "python3",
      "display_name": "Python 3"
    },
    "language_info": {
      "name": "python"
    }
  },
  "cells": [
    {
      "cell_type": "markdown",
      "metadata": {
        "id": "view-in-github",
        "colab_type": "text"
      },
      "source": [
        "<a href=\"https://colab.research.google.com/github/ravindranath-sawane/Mask_Detection_-_Student_Identification/blob/main/Tesserect.ipynb\" target=\"_parent\"><img src=\"https://colab.research.google.com/assets/colab-badge.svg\" alt=\"Open In Colab\"/></a>"
      ]
    },
    {
      "cell_type": "code",
      "metadata": {
        "colab": {
          "base_uri": "https://localhost:8080/"
        },
        "id": "zT2MaDKuTRKN",
        "outputId": "03eff22b-88f5-41b6-e411-91cfb47f4578"
      },
      "source": [
        "!sudo apt install tesseract-ocr\n",
        "!pip install pytesseract"
      ],
      "execution_count": null,
      "outputs": [
        {
          "output_type": "stream",
          "text": [
            "Reading package lists... Done\n",
            "Building dependency tree       \n",
            "Reading state information... Done\n",
            "The following additional packages will be installed:\n",
            "  tesseract-ocr-eng tesseract-ocr-osd\n",
            "The following NEW packages will be installed:\n",
            "  tesseract-ocr tesseract-ocr-eng tesseract-ocr-osd\n",
            "0 upgraded, 3 newly installed, 0 to remove and 31 not upgraded.\n",
            "Need to get 4,795 kB of archives.\n",
            "After this operation, 15.8 MB of additional disk space will be used.\n",
            "Get:1 http://archive.ubuntu.com/ubuntu bionic/universe amd64 tesseract-ocr-eng all 4.00~git24-0e00fe6-1.2 [1,588 kB]\n",
            "Get:2 http://archive.ubuntu.com/ubuntu bionic/universe amd64 tesseract-ocr-osd all 4.00~git24-0e00fe6-1.2 [2,989 kB]\n",
            "Get:3 http://archive.ubuntu.com/ubuntu bionic/universe amd64 tesseract-ocr amd64 4.00~git2288-10f4998a-2 [218 kB]\n",
            "Fetched 4,795 kB in 1s (5,339 kB/s)\n",
            "debconf: unable to initialize frontend: Dialog\n",
            "debconf: (No usable dialog-like program is installed, so the dialog based frontend cannot be used. at /usr/share/perl5/Debconf/FrontEnd/Dialog.pm line 76, <> line 3.)\n",
            "debconf: falling back to frontend: Readline\n",
            "debconf: unable to initialize frontend: Readline\n",
            "debconf: (This frontend requires a controlling tty.)\n",
            "debconf: falling back to frontend: Teletype\n",
            "dpkg-preconfigure: unable to re-open stdin: \n",
            "Selecting previously unselected package tesseract-ocr-eng.\n",
            "(Reading database ... 160983 files and directories currently installed.)\n",
            "Preparing to unpack .../tesseract-ocr-eng_4.00~git24-0e00fe6-1.2_all.deb ...\n",
            "Unpacking tesseract-ocr-eng (4.00~git24-0e00fe6-1.2) ...\n",
            "Selecting previously unselected package tesseract-ocr-osd.\n",
            "Preparing to unpack .../tesseract-ocr-osd_4.00~git24-0e00fe6-1.2_all.deb ...\n",
            "Unpacking tesseract-ocr-osd (4.00~git24-0e00fe6-1.2) ...\n",
            "Selecting previously unselected package tesseract-ocr.\n",
            "Preparing to unpack .../tesseract-ocr_4.00~git2288-10f4998a-2_amd64.deb ...\n",
            "Unpacking tesseract-ocr (4.00~git2288-10f4998a-2) ...\n",
            "Setting up tesseract-ocr-osd (4.00~git24-0e00fe6-1.2) ...\n",
            "Setting up tesseract-ocr-eng (4.00~git24-0e00fe6-1.2) ...\n",
            "Setting up tesseract-ocr (4.00~git2288-10f4998a-2) ...\n",
            "Processing triggers for man-db (2.8.3-2ubuntu0.1) ...\n",
            "Collecting pytesseract\n",
            "  Downloading https://files.pythonhosted.org/packages/a0/e6/a4e9fc8a93c1318540e8de6d8d4beb5749b7960388a7c7f27799fc2dd016/pytesseract-0.3.7.tar.gz\n",
            "Requirement already satisfied: Pillow in /usr/local/lib/python3.7/dist-packages (from pytesseract) (7.1.2)\n",
            "Building wheels for collected packages: pytesseract\n",
            "  Building wheel for pytesseract (setup.py) ... \u001b[?25l\u001b[?25hdone\n",
            "  Created wheel for pytesseract: filename=pytesseract-0.3.7-py2.py3-none-any.whl size=13945 sha256=b877a96929c5f1f5e62277c41418a278bd158dd5e969c3896a83c137a9df5812\n",
            "  Stored in directory: /root/.cache/pip/wheels/81/20/7e/1dd0daad1575d5260916bb1e9781246430647adaef4b3ca3b3\n",
            "Successfully built pytesseract\n",
            "Installing collected packages: pytesseract\n",
            "Successfully installed pytesseract-0.3.7\n"
          ],
          "name": "stdout"
        }
      ]
    },
    {
      "cell_type": "code",
      "metadata": {
        "id": "AeAxEBkWT7Gh"
      },
      "source": [
        "import pytesseract\n",
        "import shutil\n",
        "import os\n",
        "import random\n",
        "try:\n",
        " from PIL import Image\n",
        "except ImportError:\n",
        " import Image"
      ],
      "execution_count": null,
      "outputs": []
    },
    {
      "cell_type": "code",
      "metadata": {
        "colab": {
          "resources": {
            "http://localhost:8080/nbextensions/google.colab/files.js": {
              "data": "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",
              "ok": true,
              "headers": [
                [
                  "content-type",
                  "application/javascript"
                ]
              ],
              "status": 200,
              "status_text": ""
            }
          },
          "base_uri": "https://localhost:8080/",
          "height": 73
        },
        "id": "C2_jO4O-T99x",
        "outputId": "85b38fef-bbab-426c-e135-17d23827274b"
      },
      "source": [
        "from google.colab import files\n",
        "uploaded = files.upload()"
      ],
      "execution_count": null,
      "outputs": [
        {
          "output_type": "display_data",
          "data": {
            "text/html": [
              "\n",
              "     <input type=\"file\" id=\"files-884296cf-716f-49c2-8cff-28554051b41a\" name=\"files[]\" multiple disabled\n",
              "        style=\"border:none\" />\n",
              "     <output id=\"result-884296cf-716f-49c2-8cff-28554051b41a\">\n",
              "      Upload widget is only available when the cell has been executed in the\n",
              "      current browser session. Please rerun this cell to enable.\n",
              "      </output>\n",
              "      <script src=\"/nbextensions/google.colab/files.js\"></script> "
            ],
            "text/plain": [
              "<IPython.core.display.HTML object>"
            ]
          },
          "metadata": {
            "tags": []
          }
        },
        {
          "output_type": "stream",
          "text": [
            "Saving 19Q0005AIG1024.jpg to 19Q0005AIG1024.jpg\n"
          ],
          "name": "stdout"
        }
      ]
    },
    {
      "cell_type": "code",
      "metadata": {
        "colab": {
          "base_uri": "https://localhost:8080/"
        },
        "id": "ZW7DuWcEWa87",
        "outputId": "0ddb7886-d3d2-4dbf-caa4-0ea823834b70"
      },
      "source": [
        "for i in uploaded:\n",
        "  print(i)"
      ],
      "execution_count": null,
      "outputs": [
        {
          "output_type": "stream",
          "text": [
            "19Q0005AIG1024.jpg\n"
          ],
          "name": "stdout"
        }
      ]
    },
    {
      "cell_type": "code",
      "metadata": {
        "colab": {
          "base_uri": "https://localhost:8080/"
        },
        "id": "r5Bz0L0AUJdZ",
        "outputId": "06b07338-9fa3-4fd2-db3c-7d7ad67c49fd"
      },
      "source": [
        "image_path_in_colab=i\n",
        "extractedInformation = pytesseract.image_to_string(Image.open(image_path_in_colab))\n",
        "print(extractedInformation)"
      ],
      "execution_count": null,
      "outputs": [
        {
          "output_type": "stream",
          "text": [
            "G H Raisoni Institute of\n",
            "Engineering & Technology\n",
            "\n",
            " \n",
            "\n",
            "Name RAVINDRANATH K SAWANE\n",
            "\n",
            "Course Al Year: ist Yr\n",
            "DOB — 16-07-2001 Blood Grp: B+\n",
            "\n",
            "Add — ATPOSTWAGHALA TQ PATHRI\n",
            "\n",
            "  \n",
            "\n",
            "/alidity -30/06/2020\n",
            "\n",
            "19Q0005A1G1024 Mobile 9881243907\n",
            "\n",
            "o =f HN ss ; oe . oA A Mm, Aa ya * he we, Se\n",
            "’ = oT 4 es aan ne - hag at a. = la 7 ene Sai ae i) _— A — al\n",
            "\n",
            "    \n",
            "\f\n"
          ],
          "name": "stdout"
        }
      ]
    },
    {
      "cell_type": "code",
      "metadata": {
        "colab": {
          "base_uri": "https://localhost:8080/"
        },
        "id": "y81p3Zs6VE4x",
        "outputId": "83f45c1a-a9b9-4e5c-8a64-5457cf788cb9"
      },
      "source": [
        "print(pytesseract.image_to_boxes(Image.open(image_path_in_colab)))"
      ],
      "execution_count": null,
      "outputs": [
        {
          "output_type": "stream",
          "text": [
            "G 1125 2227 1215 2342 0\n",
            "H 1279 2227 1366 2339 0\n",
            "R 1437 2224 1474 2338 0\n",
            "a 1474 2224 1516 2338 0\n",
            "i 1553 2223 1610 2309 0\n",
            "s 1642 2221 1658 2337 0\n",
            "o 1712 2220 1748 2307 0\n",
            "n 1791 2218 1849 2306 0\n",
            "i 1875 2219 1953 2303 0\n",
            "I 1983 2218 2081 2331 0\n",
            "n 2114 2214 2166 2299 0\n",
            "s 2166 2214 2191 2299 0\n",
            "t 2238 2212 2275 2298 0\n",
            "i 2310 2210 2382 2306 0\n",
            "t 2418 2208 2454 2304 0\n",
            "u 2454 2208 2463 2304 0\n",
            "t 2526 2208 2564 2288 0\n",
            "e 2598 2202 2706 2298 0\n",
            "o 2784 2200 2814 2284 0\n",
            "f 2814 2200 2928 2314 0\n",
            "E 1006 2044 1067 2159 0\n",
            "n 1097 2044 1156 2132 0\n",
            "g 1194 2002 1238 2130 0\n",
            "i 1300 2042 1319 2162 0\n",
            "n 1349 2042 1400 2129 0\n",
            "e 1400 2042 1428 2129 0\n",
            "e 1489 2037 1534 2128 0\n",
            "r 1579 2035 1632 2126 0\n",
            "i 1660 2037 1749 2157 0\n",
            "n 1778 2036 1839 2122 0\n",
            "g 1876 1993 1959 2122 0\n",
            "& 2005 2030 2108 2147 0\n",
            "T 2154 2033 2233 2143 0\n",
            "e 2245 2027 2315 2115 0\n",
            "c 2335 2025 2397 2114 0\n",
            "h 2424 2028 2489 2145 0\n",
            "n 2489 2028 2499 2145 0\n",
            "o 2570 2025 2608 2110 0\n",
            "l 2651 2021 2711 2108 0\n",
            "o 2741 2018 2830 2139 0\n",
            "g 2830 2018 2857 2104 0\n",
            "y 2911 1975 3039 2102 0\n",
            "~ 334 1923 730 2317 0\n",
            "N 1030 1603 1100 1700 0\n",
            "a 1100 1603 1197 1700 0\n",
            "m 1197 1603 1272 1700 0\n",
            "e 1297 1601 1367 1675 0\n",
            "R 1584 1593 1630 1693 0\n",
            "A 1630 1593 1704 1693 0\n",
            "V 1704 1593 1754 1693 0\n",
            "I 1786 1594 1862 1693 0\n",
            "N 1869 1594 1943 1693 0\n",
            "D 1943 1594 2018 1693 0\n",
            "R 2038 1592 2092 1689 0\n",
            "A 2092 1592 2119 1689 0\n",
            "N 2167 1594 2241 1688 0\n",
            "A 2241 1594 2316 1688 0\n",
            "T 2316 1594 2353 1688 0\n",
            "H 2391 1593 2504 1686 0\n",
            "K 2556 1592 2635 1683 0\n",
            "S 2679 1589 2749 1682 0\n",
            "A 2749 1589 2823 1682 0\n",
            "W 2823 1589 2905 1679 0\n",
            "A 2905 1589 2928 1679 0\n",
            "N 2965 1583 3024 1677 0\n",
            "E 3024 1583 3146 1677 0\n",
            "C 1025 1391 1091 1480 0\n",
            "o 1114 1389 1152 1450 0\n",
            "u 1152 1389 1181 1450 0\n",
            "r 1212 1389 1252 1447 0\n",
            "s 1293 1384 1353 1448 0\n",
            "e 1353 1384 1426 1448 0\n",
            "A 1509 1393 1512 1397 0\n",
            "l 1611 1382 1720 1475 0\n",
            "Y 2620 1379 2676 1467 0\n",
            "e 2699 1377 2736 1437 0\n",
            "a 2736 1377 2806 1437 0\n",
            "r 2806 1377 2861 1437 0\n",
            ": 2861 1377 2891 1437 0\n",
            "i 3000 1374 3031 1461 0\n",
            "s 3062 1373 3086 1452 0\n",
            "t 3086 1373 3154 1452 0\n",
            "Y 3181 1371 3226 1459 0\n",
            "r 3259 1371 3309 1431 0\n",
            "D 1024 1168 1097 1259 0\n",
            "O 1097 1168 1191 1259 0\n",
            "B 1228 1167 1302 1258 0\n",
            "— 1424 1106 1488 1301 0\n",
            "1 1574 1162 1576 1165 0\n",
            "6 1586 1154 1632 1255 0\n",
            "- 1681 1157 1732 1258 0\n",
            "0 1732 1157 1784 1258 0\n",
            "7 1784 1157 1844 1258 0\n",
            "- 1871 1185 1904 1258 0\n",
            "2 1904 1185 1911 1258 0\n",
            "0 1955 1151 2041 1256 0\n",
            "0 2041 1151 2093 1256 0\n",
            "1 2093 1151 2151 1256 0\n",
            "B 2247 1162 2290 1253 0\n",
            "l 2328 1160 2359 1255 0\n",
            "o 2359 1160 2427 1255 0\n",
            "o 2427 1160 2505 1255 0\n",
            "d 2505 1160 2566 1255 0\n",
            "G 2602 1160 2633 1251 0\n",
            "r 2633 1160 2696 1251 0\n",
            "p 2719 1131 2788 1221 0\n",
            ": 2788 1131 2840 1221 0\n",
            "B 3008 1155 3045 1248 0\n",
            "+ 3045 1155 3154 1248 0\n",
            "A 1024 945 1097 1035 0\n",
            "d 1120 945 1175 1037 0\n",
            "d 1196 945 1263 1037 0\n",
            "— 1472 994 1539 1106 0\n",
            "A 1584 925 1658 1035 0\n",
            "T 1658 925 1688 1035 0\n",
            "P 1774 882 1851 1064 0\n",
            "O 1851 882 1929 1064 0\n",
            "S 1929 882 2035 1064 0\n",
            "T 2035 882 2122 1064 0\n",
            "W 2140 943 2238 1034 0\n",
            "A 2238 943 2269 1034 0\n",
            "G 2315 941 2362 1032 0\n",
            "H 2393 939 2458 1033 0\n",
            "A 2509 941 2558 1033 0\n",
            "L 2586 939 2663 1032 0\n",
            "A 2731 938 2789 1031 0\n",
            "T 2846 917 2885 1032 0\n",
            "Q 2885 917 2982 1032 0\n",
            "P 3052 937 3079 1032 0\n",
            "A 3079 937 3128 1032 0\n",
            "T 3166 935 3216 1029 0\n",
            "H 3243 933 3321 1031 0\n",
            "R 3321 933 3398 1031 0\n",
            "I 3508 946 3510 949 0\n",
            "~ 110 1157 916 1739 0\n",
            "~ 110 989 200 1157 0\n",
            "/ 132 880 139 888 0\n",
            "a 200 877 208 909 0\n",
            "l 230 879 240 913 0\n",
            "i 256 879 272 957 0\n",
            "d 279 870 305 957 0\n",
            "i 305 870 324 957 0\n",
            "t 343 875 350 957 0\n",
            "y 380 854 430 959 0\n",
            "- 405 889 499 958 0\n",
            "3 509 869 541 960 0\n",
            "0 541 869 574 960 0\n",
            "/ 574 869 622 960 0\n",
            "0 622 869 628 960 0\n",
            "6 665 865 708 962 0\n",
            "/ 708 865 751 962 0\n",
            "2 751 865 799 962 0\n",
            "0 799 865 848 962 0\n",
            "2 848 865 891 962 0\n",
            "0 916 868 966 933 0\n",
            "1 122 642 162 712 0\n",
            "9 168 626 218 714 0\n",
            "Q 218 626 274 714 0\n",
            "0 274 626 330 714 0\n",
            "0 330 626 380 714 0\n",
            "0 380 626 430 714 0\n",
            "5 430 626 480 714 0\n",
            "A 480 626 499 714 0\n",
            "1 555 640 605 712 0\n",
            "G 605 640 662 712 0\n",
            "1 662 640 718 712 0\n",
            "0 718 640 728 712 0\n",
            "2 774 640 830 712 0\n",
            "4 830 640 887 712 0\n",
            "M 1016 606 1080 701 0\n",
            "o 1080 606 1135 701 0\n",
            "b 1155 605 1208 671 0\n",
            "i 1236 607 1281 704 0\n",
            "l 1299 608 1320 701 0\n",
            "e 1361 605 1427 705 0\n",
            "9 1577 608 1624 704 0\n",
            "8 1624 608 1686 704 0\n",
            "8 1686 608 1749 704 0\n",
            "1 1770 611 1772 613 0\n",
            "2 1811 608 1820 704 0\n",
            "4 1894 663 1896 665 0\n",
            "3 1950 661 1952 663 0\n",
            "9 2005 605 2055 703 0\n",
            "0 2055 605 2105 703 0\n",
            "7 2105 605 2210 703 0\n",
            "o 280 109 306 135 0\n",
            "= 460 114 499 134 0\n",
            "f 536 111 562 133 0\n",
            "H 629 107 700 133 0\n",
            "N 762 107 785 130 0\n",
            "s 886 109 906 129 0\n",
            "s 968 125 978 128 0\n",
            "; 1178 107 1266 127 0\n",
            "o 1349 125 1386 133 0\n",
            "e 1399 115 1420 126 0\n",
            ". 1520 129 1528 133 0\n",
            "o 1642 111 1664 133 0\n",
            "A 1712 115 1715 120 0\n",
            "A 1773 111 1820 137 0\n",
            "M 1904 123 1907 125 0\n",
            "m 1912 125 1918 138 0\n",
            ", 1928 112 1933 116 0\n",
            "A 1958 122 1970 137 0\n",
            "a 1973 117 1976 119 0\n",
            "y 3669 0 3669 0 0\n",
            "a 2032 113 2053 119 0\n",
            "* 2141 113 2167 139 0\n",
            "h 2258 120 2272 138 0\n",
            "e 2327 114 2354 144 0\n",
            "w 2370 133 2376 136 0\n",
            "e 2396 115 2405 142 0\n",
            ", 2405 115 2420 142 0\n",
            "S 2436 114 2468 147 0\n",
            "e 2493 121 2520 145 0\n",
            "’ 5 0 8 5 0\n",
            "= 40 0 112 29 0\n",
            "o 195 8 197 13 0\n",
            "T 197 8 200 13 0\n",
            "4 313 5 317 14 0\n",
            "e 368 13 372 14 0\n",
            "s 372 13 376 14 0\n",
            "a 517 5 533 26 0\n",
            "a 536 2 543 15 0\n",
            "n 545 21 554 24 0\n",
            "n 572 0 648 27 0\n",
            "e 659 2 680 26 0\n",
            "- 702 3 704 6 0\n",
            "h 712 10 720 29 0\n",
            "a 720 24 725 27 0\n",
            "g 732 0 736 5 0\n",
            "a 752 5 762 10 0\n",
            "t 777 5 784 16 0\n",
            "a 818 0 850 29 0\n",
            ". 850 13 864 29 0\n",
            "= 891 13 952 31 0\n",
            "l 1045 28 1048 29 0\n",
            "a 1080 21 1083 27 0\n",
            "7 1149 11 1152 13 0\n",
            "e 1472 13 1496 26 0\n",
            "n 1528 21 1534 34 0\n",
            "e 1560 18 1568 21 0\n",
            "S 1589 13 1592 16 0\n",
            "a 1592 13 1592 16 0\n",
            "i 1605 5 1616 21 0\n",
            "a 1749 0 1790 29 0\n",
            "e 1800 8 1842 29 0\n",
            "i 1904 13 1907 22 0\n",
            ") 1945 6 2016 29 0\n",
            "_ 2067 0 2069 5 0\n",
            "— 2077 2 2097 15 0\n",
            "A 2304 5 2307 7 0\n",
            "— 2400 0 2578 23 0\n",
            "a 3598 0 3644 13 0\n",
            "l 3644 0 3650 13 0\n",
            "~ 0 0 53 551 0\n",
            "~ 2536 0 3669 551 0\n",
            "~ 2576 551 3574 711 0\n",
            "\n"
          ],
          "name": "stdout"
        }
      ]
    }
  ]
}